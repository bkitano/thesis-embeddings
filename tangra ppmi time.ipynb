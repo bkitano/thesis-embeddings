{
 "cells": [
  {
   "cell_type": "code",
   "execution_count": 1,
   "metadata": {
    "collapsed": true
   },
   "outputs": [],
   "source": [
    "import torch\n",
    "from scipy.sparse import csr_matrix\n",
    "import numpy as np\n",
    "import time\n",
    "import math\n",
    "import pickle"
   ]
  },
  {
   "cell_type": "code",
   "execution_count": 2,
   "metadata": {
    "collapsed": true
   },
   "outputs": [],
   "source": [
    "with open('./wordToID.p', 'rb') as fp:\n",
    "    WordToID = pickle.load(fp)\n",
    "\n",
    "with open('./IDtoWord.p', 'rb') as fp:\n",
    "    IDToWord = pickle.load(fp)\n",
    "    \n",
    "with open('./quintilenorm/cooccurBatch1.p', 'rb') as fp:\n",
    "    X = pickle.load(fp)"
   ]
  },
  {
   "cell_type": "code",
   "execution_count": 3,
   "metadata": {},
   "outputs": [
    {
     "name": "stdout",
     "output_type": "stream",
     "text": [
      "36343\n",
      "36343\n",
      "(36343, 36343)\n"
     ]
    }
   ],
   "source": [
    "f = len(WordToID)\n",
    "print(len(WordToID))\n",
    "print(len(IDToWord))\n",
    "print(X.shape)"
   ]
  },
  {
   "cell_type": "code",
   "execution_count": 4,
   "metadata": {
    "scrolled": true
   },
   "outputs": [
    {
     "name": "stdout",
     "output_type": "stream",
     "text": [
      "Set up. Time elapsed: 13.468387842178345\n"
     ]
    }
   ],
   "source": [
    "# clear the diagonals and replace with total counts\n",
    "a = time.time()\n",
    "V = torch.from_numpy(X.todense()).float()\n",
    "mask = torch.ones_like(V) - torch.diag(torch.ones(f))\n",
    "V = torch.mul(V, mask)\n",
    "S = torch.mv(V, torch.ones(f))\n",
    "D = torch.diag(S)\n",
    "V.add_(D)\n",
    "print(\"Set up. Time elapsed: {}\".format(time.time() - a))"
   ]
  },
  {
   "cell_type": "code",
   "execution_count": 5,
   "metadata": {},
   "outputs": [
    {
     "name": "stdout",
     "output_type": "stream",
     "text": [
      "\n",
      " 1.8308e+05  6.6100e+02  5.6200e+02\n",
      " 6.6100e+02  1.0750e+05  4.6900e+02\n",
      " 5.6300e+02  4.6900e+02  1.2196e+05\n",
      "[torch.FloatTensor of size 3x3]\n",
      "\n"
     ]
    }
   ],
   "source": [
    "print(V[0:3, 0:3])"
   ]
  },
  {
   "cell_type": "code",
   "execution_count": 6,
   "metadata": {},
   "outputs": [
    {
     "name": "stdout",
     "output_type": "stream",
     "text": [
      "logXij\n",
      "1.1638164520263672\n"
     ]
    }
   ],
   "source": [
    "# okay, now V is in the form that we'd expect.\n",
    "print(\"logXij\")\n",
    "a = time.time()\n",
    "logXij = torch.log1p(V)\n",
    "print(time.time() - a)"
   ]
  },
  {
   "cell_type": "code",
   "execution_count": 7,
   "metadata": {},
   "outputs": [
    {
     "name": "stdout",
     "output_type": "stream",
     "text": [
      "\n",
      " 12.1177   6.4953   6.3333\n",
      "  6.4953  11.5852   6.1527\n",
      "  6.3351   6.1527  11.7114\n",
      "[torch.FloatTensor of size 3x3]\n",
      "\n"
     ]
    }
   ],
   "source": [
    "print(logXij[0:3, 0:3])"
   ]
  },
  {
   "cell_type": "code",
   "execution_count": 8,
   "metadata": {
    "scrolled": true
   },
   "outputs": [
    {
     "name": "stdout",
     "output_type": "stream",
     "text": [
      "logXi\n"
     ]
    }
   ],
   "source": [
    "print(\"logXi\")\n",
    "logXiXj = torch.log1p(S.repeat(f,1)) + torch.log1p(S.repeat(f,1)).t()"
   ]
  },
  {
   "cell_type": "code",
   "execution_count": 9,
   "metadata": {},
   "outputs": [
    {
     "name": "stdout",
     "output_type": "stream",
     "text": [
      "\n",
      " 24.2354  23.7029  23.8291\n",
      " 23.7029  23.1705  23.2967\n",
      " 23.8291  23.2967  23.4228\n",
      "[torch.FloatTensor of size 3x3]\n",
      "\n"
     ]
    }
   ],
   "source": [
    "print(logXiXj[0:3, 0:3])"
   ]
  },
  {
   "cell_type": "code",
   "execution_count": 10,
   "metadata": {},
   "outputs": [
    {
     "name": "stdout",
     "output_type": "stream",
     "text": [
      "PMI\n",
      "2.617755651473999\n"
     ]
    }
   ],
   "source": [
    "print(\"PMI\")\n",
    "a = time.time()\n",
    "trace = math.log(torch.sum(S))\n",
    "PMI = logXij + trace - logXiXj\n",
    "print(time.time() - a)"
   ]
  },
  {
   "cell_type": "code",
   "execution_count": 11,
   "metadata": {},
   "outputs": [
    {
     "name": "stdout",
     "output_type": "stream",
     "text": [
      "17.287345107405866\n",
      "\n",
      " 5.1697  0.0797 -0.2085\n",
      " 0.0797  5.7021  0.1434\n",
      "-0.2067  0.1434  5.5759\n",
      "[torch.FloatTensor of size 3x3]\n",
      "\n"
     ]
    }
   ],
   "source": [
    "print(trace)\n",
    "print(PMI[0:3, 0:3])"
   ]
  },
  {
   "cell_type": "code",
   "execution_count": 12,
   "metadata": {},
   "outputs": [
    {
     "name": "stdout",
     "output_type": "stream",
     "text": [
      "PPMI\n",
      "5.591378927230835\n"
     ]
    }
   ],
   "source": [
    "print(\"PPMI\")\n",
    "a = time.time()\n",
    "PPMI = torch.max(PMI, torch.zeros(f,f))\n",
    "print(time.time() - a)"
   ]
  },
  {
   "cell_type": "code",
   "execution_count": 13,
   "metadata": {},
   "outputs": [
    {
     "name": "stdout",
     "output_type": "stream",
     "text": [
      "\n",
      " 5.1697  0.0797  0.0000\n",
      " 0.0797  5.7021  0.1434\n",
      " 0.0000  0.1434  5.5759\n",
      "[torch.FloatTensor of size 3x3]\n",
      "\n"
     ]
    }
   ],
   "source": [
    "print(PPMI[0:3,0:3])"
   ]
  },
  {
   "cell_type": "code",
   "execution_count": 14,
   "metadata": {
    "collapsed": true
   },
   "outputs": [],
   "source": [
    "# write to hdf5\n",
    "import h5py\n",
    "with h5py.File('ppmi.hdf5', 'w') as f:\n",
    "    dset = f.create_dataset(\"default\", data=PPMI)"
   ]
  },
  {
   "cell_type": "code",
   "execution_count": null,
   "metadata": {
    "collapsed": true
   },
   "outputs": [],
   "source": []
  }
 ],
 "metadata": {
  "kernelspec": {
   "display_name": "Python 3",
   "language": "python",
   "name": "python3"
  },
  "language_info": {
   "codemirror_mode": {
    "name": "ipython",
    "version": 3
   },
   "file_extension": ".py",
   "mimetype": "text/x-python",
   "name": "python",
   "nbconvert_exporter": "python",
   "pygments_lexer": "ipython3",
   "version": "3.5.2"
  }
 },
 "nbformat": 4,
 "nbformat_minor": 2
}
